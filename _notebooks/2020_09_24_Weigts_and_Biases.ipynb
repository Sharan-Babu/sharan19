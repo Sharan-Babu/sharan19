{
  "nbformat": 4,
  "nbformat_minor": 0,
  "metadata": {
    "colab": {
      "name": "2020-09-24-Weigts-and-Biases.ipynb",
      "provenance": []
    },
    "kernelspec": {
      "name": "python3",
      "display_name": "Python 3"
    }
  },
  "cells": [
    {
      "cell_type": "markdown",
      "metadata": {
        "id": "-EMdoKtJd-5J",
        "colab_type": "text"
      },
      "source": [
        "# \"Weights and Biases\"\n",
        "> \"WandB Tutorials\"\n",
        "\n",
        "- toc: false\n",
        "- branch: master\n",
        "- badges: true\n",
        "- comments: true\n",
        "- categories: [weights and biases, tracking models, visualization]\n",
        "- image: images/some_folder/your_image.png\n",
        "- hide: false\n",
        "- search_exclude: true"
      ]
    },
    {
      "cell_type": "code",
      "metadata": {
        "id": "vPgNCRBKeAco",
        "colab_type": "code",
        "colab": {
          "base_uri": "https://localhost:8080/",
          "height": 935
        },
        "outputId": "d762c9ce-7c2f-4fad-edcf-ae141e7c4d3d"
      },
      "source": [
        "#hide\n",
        "!pip install wandb"
      ],
      "execution_count": 1,
      "outputs": [
        {
          "output_type": "stream",
          "text": [
            "Collecting wandb\n",
            "\u001b[?25l  Downloading https://files.pythonhosted.org/packages/2e/d2/f864e4fea30223a694b1454fbe8634eab70d409b5185ec56914bae04d1e8/wandb-0.10.2-py2.py3-none-any.whl (1.6MB)\n",
            "\u001b[K     |████████████████████████████████| 1.6MB 2.8MB/s \n",
            "\u001b[?25hRequirement already satisfied: promise<3,>=2.0 in /usr/local/lib/python3.6/dist-packages (from wandb) (2.3)\n",
            "Requirement already satisfied: psutil>=5.0.0 in /usr/local/lib/python3.6/dist-packages (from wandb) (5.4.8)\n",
            "Collecting subprocess32>=3.5.3\n",
            "\u001b[?25l  Downloading https://files.pythonhosted.org/packages/32/c8/564be4d12629b912ea431f1a50eb8b3b9d00f1a0b1ceff17f266be190007/subprocess32-3.5.4.tar.gz (97kB)\n",
            "\u001b[K     |████████████████████████████████| 102kB 8.1MB/s \n",
            "\u001b[?25hCollecting sentry-sdk>=0.4.0\n",
            "\u001b[?25l  Downloading https://files.pythonhosted.org/packages/6f/0f/fabe13834484d499064198f8ecf6904a4ce569246ce41d2d747432a8f3c8/sentry_sdk-0.17.8-py2.py3-none-any.whl (120kB)\n",
            "\u001b[K     |████████████████████████████████| 122kB 14.2MB/s \n",
            "\u001b[?25hRequirement already satisfied: protobuf>=3.12.0 in /usr/local/lib/python3.6/dist-packages (from wandb) (3.12.4)\n",
            "Requirement already satisfied: PyYAML in /usr/local/lib/python3.6/dist-packages (from wandb) (3.13)\n",
            "Collecting configparser>=3.8.1\n",
            "  Downloading https://files.pythonhosted.org/packages/4b/6b/01baa293090240cf0562cc5eccb69c6f5006282127f2b846fad011305c79/configparser-5.0.0-py3-none-any.whl\n",
            "Requirement already satisfied: six>=1.13.0 in /usr/local/lib/python3.6/dist-packages (from wandb) (1.15.0)\n",
            "Collecting GitPython>=1.0.0\n",
            "\u001b[?25l  Downloading https://files.pythonhosted.org/packages/09/bc/ae32e07e89cc25b9e5c793d19a1e5454d30a8e37d95040991160f942519e/GitPython-3.1.8-py3-none-any.whl (159kB)\n",
            "\u001b[K     |████████████████████████████████| 163kB 17.9MB/s \n",
            "\u001b[?25hRequirement already satisfied: python-dateutil>=2.6.1 in /usr/local/lib/python3.6/dist-packages (from wandb) (2.8.1)\n",
            "Collecting docker-pycreds>=0.4.0\n",
            "  Downloading https://files.pythonhosted.org/packages/f5/e8/f6bd1eee09314e7e6dee49cbe2c5e22314ccdb38db16c9fc72d2fa80d054/docker_pycreds-0.4.0-py2.py3-none-any.whl\n",
            "Collecting shortuuid>=0.5.0\n",
            "  Downloading https://files.pythonhosted.org/packages/25/a6/2ecc1daa6a304e7f1b216f0896b26156b78e7c38e1211e9b798b4716c53d/shortuuid-1.0.1-py3-none-any.whl\n",
            "Collecting watchdog>=0.8.3\n",
            "\u001b[?25l  Downloading https://files.pythonhosted.org/packages/0e/06/121302598a4fc01aca942d937f4a2c33430b7181137b35758913a8db10ad/watchdog-0.10.3.tar.gz (94kB)\n",
            "\u001b[K     |████████████████████████████████| 102kB 8.2MB/s \n",
            "\u001b[?25hRequirement already satisfied: requests<3,>=2.0.0 in /usr/local/lib/python3.6/dist-packages (from wandb) (2.23.0)\n",
            "Requirement already satisfied: Click>=7.0 in /usr/local/lib/python3.6/dist-packages (from wandb) (7.1.2)\n",
            "Requirement already satisfied: urllib3>=1.10.0 in /usr/local/lib/python3.6/dist-packages (from sentry-sdk>=0.4.0->wandb) (1.24.3)\n",
            "Requirement already satisfied: certifi in /usr/local/lib/python3.6/dist-packages (from sentry-sdk>=0.4.0->wandb) (2020.6.20)\n",
            "Requirement already satisfied: setuptools in /usr/local/lib/python3.6/dist-packages (from protobuf>=3.12.0->wandb) (50.3.0)\n",
            "Collecting gitdb<5,>=4.0.1\n",
            "\u001b[?25l  Downloading https://files.pythonhosted.org/packages/48/11/d1800bca0a3bae820b84b7d813ad1eff15a48a64caea9c823fc8c1b119e8/gitdb-4.0.5-py3-none-any.whl (63kB)\n",
            "\u001b[K     |████████████████████████████████| 71kB 7.4MB/s \n",
            "\u001b[?25hCollecting pathtools>=0.1.1\n",
            "  Downloading https://files.pythonhosted.org/packages/e7/7f/470d6fcdf23f9f3518f6b0b76be9df16dcc8630ad409947f8be2eb0ed13a/pathtools-0.1.2.tar.gz\n",
            "Requirement already satisfied: idna<3,>=2.5 in /usr/local/lib/python3.6/dist-packages (from requests<3,>=2.0.0->wandb) (2.10)\n",
            "Requirement already satisfied: chardet<4,>=3.0.2 in /usr/local/lib/python3.6/dist-packages (from requests<3,>=2.0.0->wandb) (3.0.4)\n",
            "Collecting smmap<4,>=3.0.1\n",
            "  Downloading https://files.pythonhosted.org/packages/b0/9a/4d409a6234eb940e6a78dfdfc66156e7522262f5f2fecca07dc55915952d/smmap-3.0.4-py2.py3-none-any.whl\n",
            "Building wheels for collected packages: subprocess32, watchdog, pathtools\n",
            "  Building wheel for subprocess32 (setup.py) ... \u001b[?25l\u001b[?25hdone\n",
            "  Created wheel for subprocess32: filename=subprocess32-3.5.4-cp36-none-any.whl size=6489 sha256=11379145f600fffa95e4685b6ba48d090128325e13c042de64d64ec7458a12d5\n",
            "  Stored in directory: /root/.cache/pip/wheels/68/39/1a/5e402bdfdf004af1786c8b853fd92f8c4a04f22aad179654d1\n",
            "  Building wheel for watchdog (setup.py) ... \u001b[?25l\u001b[?25hdone\n",
            "  Created wheel for watchdog: filename=watchdog-0.10.3-cp36-none-any.whl size=73873 sha256=2835cc30f0ef5afcda1f43879fbdd7f4a02802853eab3de1c336cfe2f521f4e8\n",
            "  Stored in directory: /root/.cache/pip/wheels/a8/1d/38/2c19bb311f67cc7b4d07a2ec5ea36ab1a0a0ea50db994a5bc7\n",
            "  Building wheel for pathtools (setup.py) ... \u001b[?25l\u001b[?25hdone\n",
            "  Created wheel for pathtools: filename=pathtools-0.1.2-cp36-none-any.whl size=8785 sha256=4ad0f40a3ce9a5e0aa0d9764afe406afc00953f8c6be30796c0c749e6d93b390\n",
            "  Stored in directory: /root/.cache/pip/wheels/0b/04/79/c3b0c3a0266a3cb4376da31e5bfe8bba0c489246968a68e843\n",
            "Successfully built subprocess32 watchdog pathtools\n",
            "Installing collected packages: subprocess32, sentry-sdk, configparser, smmap, gitdb, GitPython, docker-pycreds, shortuuid, pathtools, watchdog, wandb\n",
            "Successfully installed GitPython-3.1.8 configparser-5.0.0 docker-pycreds-0.4.0 gitdb-4.0.5 pathtools-0.1.2 sentry-sdk-0.17.8 shortuuid-1.0.1 smmap-3.0.4 subprocess32-3.5.4 wandb-0.10.2 watchdog-0.10.3\n"
          ],
          "name": "stdout"
        }
      ]
    },
    {
      "cell_type": "markdown",
      "metadata": {
        "id": "TsjR8D_uoNw_",
        "colab_type": "text"
      },
      "source": [
        "# Wandb Basics"
      ]
    },
    {
      "cell_type": "code",
      "metadata": {
        "id": "Wj1LEG07miju",
        "colab_type": "code",
        "colab": {}
      },
      "source": [
        "# Install the library\n",
        "!pip install wandb"
      ],
      "execution_count": null,
      "outputs": []
    },
    {
      "cell_type": "code",
      "metadata": {
        "id": "2DszNvIem0nf",
        "colab_type": "code",
        "colab": {
          "base_uri": "https://localhost:8080/",
          "height": 68
        },
        "outputId": "784d14e9-2e40-4f63-d8c7-93ce21f1092f"
      },
      "source": [
        "# Login to your account\n",
        "!wandb login"
      ],
      "execution_count": 3,
      "outputs": [
        {
          "output_type": "stream",
          "text": [
            "\u001b[34m\u001b[1mwandb\u001b[0m: You can find your API key in your browser here: https://wandb.ai/authorize\n",
            "\u001b[34m\u001b[1mwandb\u001b[0m: Paste an API key from your profile and hit enter: \n",
            "\u001b[34m\u001b[1mwandb\u001b[0m: Appending key for api.wandb.ai to your netrc file: /root/.netrc\n"
          ],
          "name": "stdout"
        }
      ]
    },
    {
      "cell_type": "code",
      "metadata": {
        "id": "9PrHAIi4m3yw",
        "colab_type": "code",
        "colab": {
          "base_uri": "https://localhost:8080/",
          "height": 616
        },
        "outputId": "1ed735d8-2964-42da-d34c-861ac5d06413"
      },
      "source": [
        "# Initialize wandb\n",
        "import wandb\n",
        "wandb.init(project=\"my-first-project\")"
      ],
      "execution_count": 4,
      "outputs": [
        {
          "output_type": "stream",
          "text": [
            "\u001b[34m\u001b[1mwandb\u001b[0m: Currently logged in as: \u001b[33msharan19\u001b[0m (use `wandb login --relogin` to force relogin)\n",
            "\u001b[34m\u001b[1mwandb\u001b[0m: Tracking run with wandb version 0.10.2\n",
            "\u001b[34m\u001b[1mwandb\u001b[0m: Run data is saved locally in wandb/run-20200924_005634-2y2hgq77\n",
            "\u001b[34m\u001b[1mwandb\u001b[0m: Syncing run \u001b[33mdevoted-vortex-1\u001b[0m\n"
          ],
          "name": "stderr"
        },
        {
          "output_type": "display_data",
          "data": {
            "text/html": [
              "\n",
              "                Logging results to <a href=\"https://wandb.com\" target=\"_blank\">Weights & Biases</a> <a href=\"https://docs.wandb.com/integrations/jupyter.html\" target=\"_blank\">(Documentation)</a>.<br/>\n",
              "                Project page: <a href=\"https://wandb.ai/sharan19/my-first-project\" target=\"_blank\">https://wandb.ai/sharan19/my-first-project</a><br/>\n",
              "                Run page: <a href=\"https://wandb.ai/sharan19/my-first-project/runs/2y2hgq77\" target=\"_blank\">https://wandb.ai/sharan19/my-first-project/runs/2y2hgq77</a><br/>\n",
              "            "
            ],
            "text/plain": [
              "<IPython.core.display.HTML object>"
            ]
          },
          "metadata": {
            "tags": []
          }
        },
        {
          "output_type": "stream",
          "text": [
            "\n"
          ],
          "name": "stdout"
        },
        {
          "output_type": "execute_result",
          "data": {
            "text/plain": [
              "<wandb.sdk.wandb_run.Run at 0x7fc6a98d2b70>"
            ],
            "text/html": [
              "<h1>Run(2y2hgq77)</h1><p></p><iframe src=\"https://wandb.ai/sharan19/my-first-project/runs/2y2hgq77\" style=\"border:none;width:100%;height:400px\"></iframe>"
            ]
          },
          "metadata": {
            "tags": []
          },
          "execution_count": 4
        }
      ]
    },
    {
      "cell_type": "code",
      "metadata": {
        "id": "D1133iMLnKav",
        "colab_type": "code",
        "colab": {}
      },
      "source": [
        "# Setting Hyper-parameters\n",
        "\n",
        "wandb.config.dropout = 0.2\n",
        "wandb.config.hidden_layer_size = 128"
      ],
      "execution_count": 5,
      "outputs": []
    },
    {
      "cell_type": "code",
      "metadata": {
        "id": "PlEQwdGDn0gg",
        "colab_type": "code",
        "colab": {}
      },
      "source": [
        "# Log metrics - You can also log images,graphs,histograms\n",
        "def my_train_loop():\n",
        "    for epoch in range(10):\n",
        "        loss = 0\n",
        "        wandb.log({'epoch':epoch,'loss':loss})\n",
        "\n",
        "# Logging Images\n",
        "wandb.log({\"examples\": [wandb.Image(numpy_array_or_pil, caption=\"Label\")]})"
      ],
      "execution_count": 6,
      "outputs": []
    },
    {
      "cell_type": "markdown",
      "metadata": {
        "id": "g2CLDlnbtPLH",
        "colab_type": "text"
      },
      "source": [
        "# For logging other type of media, visit:\n",
        "https://docs.wandb.com/library/log"
      ]
    },
    {
      "cell_type": "code",
      "metadata": {
        "id": "fmhihvssob1w",
        "colab_type": "code",
        "colab": {
          "base_uri": "https://localhost:8080/",
          "height": 34
        },
        "outputId": "097ece98-bcd3-4e89-d145-f895d0ad08ef"
      },
      "source": [
        "#hide_output\n",
        "# Saving Files\n",
        "wandb.save(\"mymodel.h5\")"
      ],
      "execution_count": 7,
      "outputs": [
        {
          "output_type": "execute_result",
          "data": {
            "text/plain": [
              "[]"
            ]
          },
          "metadata": {
            "tags": []
          },
          "execution_count": 7
        }
      ]
    },
    {
      "cell_type": "code",
      "metadata": {
        "id": "GBiYDutboiCf",
        "colab_type": "code",
        "colab": {}
      },
      "source": [
        "# Save a model file from the current directory\n",
        "wandb.save('model.h5')\n",
        "\n",
        "# Save all files that currently exist containing the substring \"ckpt\"\n",
        "wandb.save('../logs/*ckpt*')\n",
        "\n",
        "# Save any files starting with \"checkpoint\" as they're written to\n",
        "wandb.save(os.path.join(wandb.run.dir, \"checkpoint*\"))"
      ],
      "execution_count": null,
      "outputs": []
    },
    {
      "cell_type": "markdown",
      "metadata": {
        "id": "UUTp3gqYrEBy",
        "colab_type": "text"
      },
      "source": [
        "## Keras Integration"
      ]
    },
    {
      "cell_type": "code",
      "metadata": {
        "id": "LwmKyo8LqklS",
        "colab_type": "code",
        "colab": {}
      },
      "source": [
        "import wandb\n",
        "from wandb.keras import WandbCallback\n",
        "wandb.init(config={\"hyper\": \"parameter\"})\n",
        "\n",
        "# Magic\n",
        "\n",
        "model.fit(X_train, y_train,  validation_data=(X_test, y_test),\n",
        "          callbacks=[WandbCallback()])"
      ],
      "execution_count": null,
      "outputs": []
    },
    {
      "cell_type": "markdown",
      "metadata": {
        "id": "Bmk2dZhcrG7D",
        "colab_type": "text"
      },
      "source": [
        "## Scikit-Learn Integration\n"
      ]
    },
    {
      "cell_type": "code",
      "metadata": {
        "id": "R57Ucd2yrIuP",
        "colab_type": "code",
        "colab": {}
      },
      "source": [
        "# Visualize single plot\n",
        "wandb.sklearn.plot_confusion_matrix(y_true, y_pred, labels)\n",
        "\n",
        "# Visualize all classifier plots\n",
        "wandb.sklearn.plot_classifier(clf, X_train, X_test, y_train, y_test, y_pred, y_probas, labels,\n",
        "                                                         model_name='SVC', feature_names=None)\n",
        "\n",
        "# All regression plots\n",
        "wandb.sklearn.plot_regressor(reg, X_train, X_test, y_train, y_test,  model_name='Ridge')\n",
        "\n",
        "# All clustering plots\n",
        "wandb.sklearn.plot_clusterer(kmeans, X_train, cluster_labels, labels=None, model_name='KMeans')"
      ],
      "execution_count": null,
      "outputs": []
    },
    {
      "cell_type": "markdown",
      "metadata": {
        "id": "EJ2sIXw0uVqs",
        "colab_type": "text"
      },
      "source": [
        "## Full Keras Example"
      ]
    },
    {
      "cell_type": "code",
      "metadata": {
        "id": "wnMT707duYQT",
        "colab_type": "code",
        "colab": {
          "base_uri": "https://localhost:8080/",
          "height": 289
        },
        "outputId": "0af92e7f-849f-410f-b8cf-4e99c305666b"
      },
      "source": [
        "import wandb\n",
        "from wandb.keras import WandbCallback\n",
        "\n",
        "from keras.datasets import fashion_mnist\n",
        "from keras.models import Sequential\n",
        "from keras.layers import Conv2D, MaxPooling2D, Dropout, Dense, Flatten\n",
        "from keras.utils import np_utils\n",
        "from keras.optimizers import SGD\n",
        "from keras.callbacks import TensorBoard\n",
        "\n",
        "# Default values for hyper-parameters\n",
        "defaults=dict(\n",
        "    dropout = 0.2,\n",
        "    hidden_layer_size = 32,\n",
        "    layer_1_size = 32,\n",
        "    learn_rate = 0.01,\n",
        "    decay = 1e-6,\n",
        "    momentum = 0.9,\n",
        "    epochs = 5,\n",
        "    )\n",
        "\n",
        "# Initialize a new wandb run and pass in the config object\n",
        "# wandb.init(anonymous='allow', project=\"kaggle\", config=defaults)\n",
        "\n",
        "wandb.init(project=\"visualize-models\", config=defaults, name=\"neural_network\")\n",
        "config = wandb.config\n",
        "\n",
        "(X_train, y_train), (X_test, y_test) = fashion_mnist.load_data()\n",
        "labels=[\"T-shirt/top\",\"Trouser\",\"Pullover\",\"Dress\",\"Coat\",\n",
        "        \"Sandal\",\"Shirt\",\"Sneaker\",\"Bag\",\"Ankle boot\"]\n",
        "\n",
        "img_width=28\n",
        "img_height=28\n",
        "\n",
        "X_train = X_train.astype('float32')\n",
        "X_train /= 255.\n",
        "X_test = X_test.astype('float32')\n",
        "X_test /= 255.\n",
        "\n",
        "#reshape input data\n",
        "X_train = X_train.reshape(X_train.shape[0], img_width, img_height, 1)[:10000]\n",
        "X_test = X_test.reshape(X_test.shape[0], img_width, img_height, 1)[:10000]\n",
        "\n",
        "# one hot encode outputs\n",
        "y_train = np_utils.to_categorical(y_train)[:10000]\n",
        "y_test = np_utils.to_categorical(y_test)[:10000]\n",
        "num_classes = y_test.shape[1]\n",
        "\n",
        "# build model\n",
        "model = Sequential()\n",
        "model.add(Conv2D(config.layer_1_size, (5, 5), activation='relu',\n",
        "                            input_shape=(img_width, img_height,1)))\n",
        "model.add(MaxPooling2D(pool_size=(2, 2)))\n",
        "model.add(Dropout(config.dropout))\n",
        "model.add(Flatten())\n",
        "model.add(Dense(num_classes, activation='softmax'))\n",
        "\n",
        "sgd = SGD(lr=config.learn_rate, decay=config.decay, momentum=config.momentum, nesterov=True)\n",
        "model.compile(loss='categorical_crossentropy', optimizer=sgd, metrics=['accuracy'])"
      ],
      "execution_count": 9,
      "outputs": [
        {
          "output_type": "stream",
          "text": [
            "\u001b[34m\u001b[1mwandb\u001b[0m: Waiting for W&B process to finish, PID 211\n",
            "\u001b[34m\u001b[1mwandb\u001b[0m: Program ended successfully.\n"
          ],
          "name": "stderr"
        },
        {
          "output_type": "stream",
          "text": [
            "\n"
          ],
          "name": "stdout"
        },
        {
          "output_type": "stream",
          "text": [
            "\u001b[34m\u001b[1mwandb\u001b[0m: \\ 0.01MB of 0.01MB uploaded (0.00MB deduped)\r\u001b[34m\u001b[1mwandb\u001b[0m:                                                                                \n",
            "\u001b[34m\u001b[1mwandb\u001b[0m: Find user logs for this run at: wandb/run-20200924_005634-2y2hgq77/logs/debug.log\n",
            "\u001b[34m\u001b[1mwandb\u001b[0m: Find internal logs for this run at: wandb/run-20200924_005634-2y2hgq77/logs/debug-internal.log\n",
            "\u001b[34m\u001b[1mwandb\u001b[0m: Synced 5 W&B file(s), 0 media file(s), 0 artifact file(s) and 0 other file(s)\n",
            "\u001b[34m\u001b[1mwandb\u001b[0m: \n",
            "\u001b[34m\u001b[1mwandb\u001b[0m: Synced \u001b[33mdevoted-vortex-1\u001b[0m: \u001b[34mhttps://wandb.ai/sharan19/my-first-project/runs/2y2hgq77\u001b[0m\n",
            "\u001b[34m\u001b[1mwandb\u001b[0m: Tracking run with wandb version 0.10.2\n",
            "\u001b[34m\u001b[1mwandb\u001b[0m: Run data is saved locally in wandb/run-20200924_013038-erckq5ar\n",
            "\u001b[34m\u001b[1mwandb\u001b[0m: Syncing run \u001b[33mneural_network\u001b[0m\n"
          ],
          "name": "stderr"
        },
        {
          "output_type": "display_data",
          "data": {
            "text/html": [
              "\n",
              "                Logging results to <a href=\"https://wandb.com\" target=\"_blank\">Weights & Biases</a> <a href=\"https://docs.wandb.com/integrations/jupyter.html\" target=\"_blank\">(Documentation)</a>.<br/>\n",
              "                Project page: <a href=\"https://wandb.ai/sharan19/visualize-models\" target=\"_blank\">https://wandb.ai/sharan19/visualize-models</a><br/>\n",
              "                Run page: <a href=\"https://wandb.ai/sharan19/visualize-models/runs/erckq5ar\" target=\"_blank\">https://wandb.ai/sharan19/visualize-models/runs/erckq5ar</a><br/>\n",
              "            "
            ],
            "text/plain": [
              "<IPython.core.display.HTML object>"
            ]
          },
          "metadata": {
            "tags": []
          }
        },
        {
          "output_type": "stream",
          "text": [
            "\n"
          ],
          "name": "stdout"
        }
      ]
    },
    {
      "cell_type": "code",
      "metadata": {
        "id": "50k2Zsstu1nW",
        "colab_type": "code",
        "colab": {
          "base_uri": "https://localhost:8080/",
          "height": 628
        },
        "outputId": "b766490b-b3b3-4792-ee0c-0de4d6d662c2"
      },
      "source": [
        "%%wandb\n",
        "# Add WandbCallback() to the fit function\n",
        "model.fit(X_train, y_train,  validation_data=(X_test, y_test), epochs=config.epochs,\n",
        "    callbacks=[WandbCallback(data_type=\"image\", labels=labels)])"
      ],
      "execution_count": 10,
      "outputs": [
        {
          "output_type": "display_data",
          "data": {
            "text/html": [
              "<iframe src=\"https://wandb.ai/sharan19/visualize-models/runs/erckq5ar?jupyter=true\" style=\"border:none;width:100%;height:420px\">\n",
              "                </iframe>"
            ],
            "text/plain": [
              "<wandb.jupyter.Run at 0x7fc668bab8d0>"
            ]
          },
          "metadata": {
            "tags": []
          }
        },
        {
          "output_type": "stream",
          "text": [
            "Epoch 1/5\n",
            "313/313 [==============================] - 7s 23ms/step - loss: 0.7694 - accuracy: 0.7219 - val_loss: 0.5558 - val_accuracy: 0.8071\n",
            "Epoch 2/5\n",
            "313/313 [==============================] - 8s 24ms/step - loss: 0.4964 - accuracy: 0.8257 - val_loss: 0.4829 - val_accuracy: 0.8282\n",
            "Epoch 3/5\n",
            "313/313 [==============================] - 8s 24ms/step - loss: 0.4345 - accuracy: 0.8500 - val_loss: 0.4887 - val_accuracy: 0.8252\n",
            "Epoch 4/5\n",
            "313/313 [==============================] - 8s 24ms/step - loss: 0.3952 - accuracy: 0.8610 - val_loss: 0.4090 - val_accuracy: 0.8578\n",
            "Epoch 5/5\n",
            "313/313 [==============================] - 8s 24ms/step - loss: 0.3692 - accuracy: 0.8698 - val_loss: 0.4131 - val_accuracy: 0.8554\n"
          ],
          "name": "stdout"
        },
        {
          "output_type": "execute_result",
          "data": {
            "text/plain": [
              "<tensorflow.python.keras.callbacks.History at 0x7fc668ae2cc0>"
            ]
          },
          "metadata": {
            "tags": []
          },
          "execution_count": 10
        }
      ]
    },
    {
      "cell_type": "code",
      "metadata": {
        "id": "vmRXYvJzvE0f",
        "colab_type": "code",
        "colab": {}
      },
      "source": [
        "!wandb agent sharan19/visualize-models/q3e69h7k"
      ],
      "execution_count": null,
      "outputs": []
    },
    {
      "cell_type": "code",
      "metadata": {
        "id": "QbufCf--v3M0",
        "colab_type": "code",
        "colab": {
          "base_uri": "https://localhost:8080/",
          "height": 51
        },
        "outputId": "7bab8ab2-e703-40c7-c7d1-34ab18ef066b"
      },
      "source": [
        "sweep_config = {\n",
        "  \"name\": \"My Sweep\",\n",
        "  \"method\": \"grid\",\n",
        "  \"parameters\": {\n",
        "        \"parameter1\": {\n",
        "            \"values\": [1, 2, 3]\n",
        "        }\n",
        "    }\n",
        "}\n",
        "\n",
        "sweep_id = wandb.sweep(sweep_config)"
      ],
      "execution_count": 12,
      "outputs": [
        {
          "output_type": "stream",
          "text": [
            "Create sweep with ID: cpttnyj5\n",
            "Sweep URL: https://wandb.ai/sharan19/uncategorized/sweeps/cpttnyj5\n"
          ],
          "name": "stdout"
        }
      ]
    },
    {
      "cell_type": "code",
      "metadata": {
        "id": "bKQ4vjMwwpYA",
        "colab_type": "code",
        "colab": {}
      },
      "source": [
        "# Where train is the function that loads,compiles and trains the neura network\n",
        "wandb.agent(sweep_id, function=train)"
      ],
      "execution_count": null,
      "outputs": []
    },
    {
      "cell_type": "markdown",
      "metadata": {
        "id": "PNqwEi4ExwYW",
        "colab_type": "text"
      },
      "source": [
        "For full example of how hyperparameter optimization with sweeps work, visit:\n",
        "https://github.com/wandb/examples/blob/master/examples/wandb-sweeps/sweeps-python/notebook.ipynb\n",
        "<br>And<br>\n",
        "https://colab.research.google.com/drive/181GCGp36_75C2zm7WLxr9U2QjMXXoibt#scrollTo=xftEwKyuaJ5q\n"
      ]
    }
  ]
}